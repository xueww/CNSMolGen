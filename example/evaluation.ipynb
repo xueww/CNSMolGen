{
 "cells": [
  {
   "cell_type": "code",
   "execution_count": null,
   "id": "60c855e5",
   "metadata": {},
   "outputs": [],
   "source": [
    "# adds the paths to the repo folder\n",
    "import sys\n",
    "sys.path.insert(1, '../preprocessing/') # preprocessing code\n",
    "sys.path.insert(1, '../experiments/') # folder with configuration files\n",
    "sys.path.insert(1, '../data/') # data code\n",
    "sys.path.insert(1, '../model/') # model code\n",
    "sys.path.insert(1, '../evaluation/') # model code\n",
    "import os\n",
    "# repo modules\n",
    "from main_preprocessor import preprocess_data #for data preprocessing\n",
    "import configparser # to automatically change the .ini file\n",
    "from sample import Sampler\n",
    "\n",
    "# other modules\n",
    "import pandas as pd\n",
    "from rdkit import Chem\n",
    "from rdkit.Chem import AllChem\n",
    "from rdkit.Chem import Draw # for molecule depiction\n",
    "from rdkit.Chem.Draw import IPythonConsole\n",
    "from rdkit.Chem.Scaffolds import MurckoScaffold\n",
    "import ChemTools\n",
    "%load_ext autoreload\n",
    "%autoreload 2"
   ]
  },
  {
   "cell_type": "code",
   "execution_count": null,
   "id": "cf4a786b",
   "metadata": {},
   "outputs": [],
   "source": [
    "%pylab\n",
    "%matplotlib inline\n",
    "loss = pd.read_csv('../evaluation/BIMODAL_random_512_FineTuning_chembl_SSRIs/statistic/stat_fold_1.csv',header=None)\n",
    "loss.columns = [\"epochs\", \"loss\"]\n",
    "loss.plot.line(x=0, y=1,figsize=(6,6))\n",
    "import matplotlib.pyplot as plt\n",
    "plt.savefig( '../evaluation/BIMODAL_random_512_FineTuning_chembl_SSRIs/statistic/loss_1.png')"
   ]
  },
  {
   "cell_type": "code",
   "execution_count": null,
   "id": "d2b60aa0",
   "metadata": {},
   "outputs": [],
   "source": [
    "from ChemTools import novelty_vs_epochs\n",
    "folder = '../evaluation/Example_pretrained/' # generates the folder path automatically\n",
    "stats = novelty_vs_epochs(folder,ft_path='../data/SSRIs_44.csv',pt_path='../data/SSRIs_44.csv',export=True)"
   ]
  }
 ],
 "metadata": {
  "kernelspec": {
   "display_name": "Python 3 (ipykernel)",
   "language": "python",
   "name": "python3"
  },
  "language_info": {
   "codemirror_mode": {
    "name": "ipython",
    "version": 3
   },
   "file_extension": ".py",
   "mimetype": "text/x-python",
   "name": "python",
   "nbconvert_exporter": "python",
   "pygments_lexer": "ipython3",
   "version": "3.10.9"
  }
 },
 "nbformat": 4,
 "nbformat_minor": 5
}
