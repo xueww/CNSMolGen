{
 "cells": [
  {
   "cell_type": "code",
   "execution_count": null,
   "id": "99138257",
   "metadata": {},
   "outputs": [],
   "source": [
    "# adds the paths to the repo folder\n",
    "import sys\n",
    "sys.path.insert(1, '../preprocessing/') # preprocessing code\n",
    "sys.path.insert(1, '../experiments/') # folder with configuration files\n",
    "sys.path.insert(1, '../data/') # data code\n",
    "sys.path.insert(1, '../model/') # model code\n",
    "sys.path.insert(1, '../evaluation/') # model code\n",
    "import os\n",
    "# repo modules\n",
    "from main_preprocessor import preprocess_data #for data preprocessing\n",
    "import configparser # to automatically change the .ini file\n",
    "from sample import Sampler\n",
    "\n",
    "# other modules\n",
    "import pandas as pd\n",
    "from rdkit import Chem\n",
    "from rdkit.Chem import AllChem\n",
    "from rdkit.Chem import Draw # for molecule depiction\n",
    "from rdkit.Chem.Draw import IPythonConsole\n",
    "from rdkit.Chem.Scaffolds import MurckoScaffold\n",
    "import ChemTools\n",
    "%load_ext autoreload\n",
    "%autoreload 2"
   ]
  },
  {
   "cell_type": "code",
   "execution_count": null,
   "id": "74562ba9",
   "metadata": {},
   "outputs": [],
   "source": [
    "from main_preprocessor import preprocess_data\n",
    "preprocess_data(filename_in='../data/ChemBridge_MPO', model_type='CNSMolGen', starting_point='random', augmentation=1)"
   ]
  }
 ],
 "metadata": {
  "kernelspec": {
   "display_name": "Python 3 (ipykernel)",
   "language": "python",
   "name": "python3"
  },
  "language_info": {
   "codemirror_mode": {
    "name": "ipython",
    "version": 3
   },
   "file_extension": ".py",
   "mimetype": "text/x-python",
   "name": "python",
   "nbconvert_exporter": "python",
   "pygments_lexer": "ipython3",
   "version": "3.10.9"
  }
 },
 "nbformat": 4,
 "nbformat_minor": 5
}
